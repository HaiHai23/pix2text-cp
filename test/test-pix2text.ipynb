{
 "cells": [
  {
   "cell_type": "code",
   "execution_count": 2,
   "metadata": {},
   "outputs": [
    {
     "data": {
      "text/plain": [
       "'d:\\\\FPT\\\\math-ocr\\\\Pix2Text'"
      ]
     },
     "execution_count": 2,
     "metadata": {},
     "output_type": "execute_result"
    }
   ],
   "source": [
    "import os\n",
    "os.chdir('..')\n",
    "os.getcwd()"
   ]
  },
  {
   "cell_type": "code",
   "execution_count": 3,
   "metadata": {},
   "outputs": [
    {
     "name": "stderr",
     "output_type": "stream",
     "text": [
      "d:\\Apps\\Anaconda3\\envs\\ai\\Lib\\site-packages\\onnxruntime\\capi\\onnxruntime_validation.py:26: UserWarning: Unsupported Windows version (11). ONNX Runtime supports Windows 10 and above, only.\n",
      "  warnings.warn(\n"
     ]
    }
   ],
   "source": [
    "from pix2text import Pix2Text"
   ]
  },
  {
   "cell_type": "code",
   "execution_count": 4,
   "metadata": {},
   "outputs": [
    {
     "name": "stdout",
     "output_type": "stream",
     "text": [
      "Fix size testing.\n",
      "training chunk_sizes: [32]\n",
      "The output will be saved to  d:\\FPT\\math-ocr\\Pix2Text\\pix2text\\doc_xl_layout\\..\\..\\exp\\ctdet_subfield\\default\n",
      "heads {'hm': 11, 'cls': 4, 'ftype': 3, 'wh': 8, 'hm_sub': 2, 'wh_sub': 8, 'reg': 2, 'reg_sub': 2}\n"
     ]
    },
    {
     "name": "stderr",
     "output_type": "stream",
     "text": [
      "[WARNING 2024-10-31 13:03:09,997 __init__:71] Using CPU. Note: This module is much faster with a GPU. \n",
      "[WARNING 2024-10-31 13:03:09,997 getDetectorPath:251] Downloading detection model, please wait. This may take several minutes depending upon your network connection. \n"
     ]
    },
    {
     "name": "stdout",
     "output_type": "stream",
     "text": [
      "Progress: |██████████████████████████████████████████████████| 100.0% Complete"
     ]
    },
    {
     "name": "stderr",
     "output_type": "stream",
     "text": [
      "[WARNING 2024-10-31 13:04:17,658 __init__:176] Downloading recognition model, please wait. This may take several minutes depending upon your network connection. \n"
     ]
    },
    {
     "name": "stdout",
     "output_type": "stream",
     "text": [
      "Progress: |██████████████████████████████████████████████████| 100.0% Complete"
     ]
    }
   ],
   "source": [
    "total_config = {\n",
    "    'text_formula': {'languages': ('vi')},\n",
    "}\n",
    "p2t = Pix2Text.from_config(total_config=total_config)"
   ]
  },
  {
   "cell_type": "code",
   "execution_count": 6,
   "metadata": {},
   "outputs": [
    {
     "name": "stdout",
     "output_type": "stream",
     "text": [
      "\n",
      "WARNING  imgsz=[468, 768] must be multiple of max stride 32, updating to [480, 768]\n"
     ]
    },
    {
     "name": "stdout",
     "output_type": "stream",
     "text": [
      "0: 480x768 2 isolateds, 175.7ms\n",
      "Speed: 4.0ms preprocess, 175.7ms inference, 0.0ms postprocess per image at shape (1, 3, 480, 768)\n"
     ]
    },
    {
     "name": "stderr",
     "output_type": "stream",
     "text": [
      "100%|██████████| 2/2 [00:02<00:00,  1.50s/it]\n"
     ]
    }
   ],
   "source": [
    "res1 = p2t.recognize(r'D:\\FPT\\math-ocr\\Pix2Text\\docs\\examples\\vietnamese.jpg', save_analysis_res='vn-out.jpg')"
   ]
  },
  {
   "cell_type": "code",
   "execution_count": 8,
   "metadata": {},
   "outputs": [
    {
     "name": "stdout",
     "output_type": "stream",
     "text": [
      "\n",
      "$$\n",
      "\\operatorname{t p h} \\hat{\\mathrm{a n ~ s o ~}} ( \\mathrm{\\ p h a n ~ t h i t c} ) \\colon{\\frac{A. M} {B. M}} \\!=\\! {\\frac{A} {B}} \\ \\ ( M \\neq0, B \\neq0 )\n",
      "$$\n",
      "$$\n",
      "\\begin{array} {l l} {\\bullet} & {( A+B )^{2}=A^{2}+2 A B+B^{2}} \\\\ {\\bullet} & {( A \\cdot B )^{2}=A^{2} \\cdot2 A B+B^{2}} \\\\ \\end{array}\n",
      "$$\n",
      "\n"
     ]
    }
   ],
   "source": [
    "print(res1)"
   ]
  },
  {
   "cell_type": "code",
   "execution_count": null,
   "metadata": {},
   "outputs": [],
   "source": [
    "from pix2text import latex_ocr\n",
    "lto = latex_ocr.LatexOCR()"
   ]
  },
  {
   "cell_type": "code",
   "execution_count": 7,
   "metadata": {},
   "outputs": [
    {
     "name": "stderr",
     "output_type": "stream",
     "text": [
      "100%|██████████| 1/1 [00:16<00:00, 16.53s/it]\n"
     ]
    }
   ],
   "source": [
    "res = lto.recognize(r'D:\\FPT\\math-ocr\\Pix2Text\\docs\\examples\\vietnamese.jpg')"
   ]
  },
  {
   "cell_type": "code",
   "execution_count": 8,
   "metadata": {},
   "outputs": [
    {
     "data": {
      "text/plain": [
       "{'text': '\\\\begin{array} {c} {{\\\\mathrm{R U T \\\\, G O N \\\\, B I \\\\! \\\\! R U \\\\, T H U C \\\\, D A I S O}}} \\\\\\\\ {{\\\\mathrm{A n t a c t e r f i c r}}} \\\\\\\\ {{\\\\mathrm{L a t h e s t e r}}} \\\\\\\\ {{\\\\mathrm{L a t h e s t r}}} \\\\\\\\ {{\\\\mathrm{L a t h e s t e r}}} \\\\\\\\ {{\\\\mathrm{L a t h e s t}}} \\\\\\\\ {{\\\\mathrm{L a t h e s t}}} \\\\\\\\ {{\\\\mathrm{L a t h e s t}}} \\\\\\\\ {{\\\\mathrm{L a t h e s t e r s i t e r e s t r e t h e t r e d a t}}} \\\\\\\\ {{\\\\mathrm{L a t h e r b e r}}} \\\\\\\\ {{\\\\mathrm{L u t h e r b e r}}} \\\\\\\\ {{\\\\mathrm{L u m e s t h e r s p h i e r e s t r e t r e t r e t r e d e t}}} \\\\\\\\ {{\\\\mathrm{L u t h e r e t a t i c e t i c e}}} \\\\\\\\ {{\\\\mathrm{L u m e t h e r s p h i c e d e r}}} \\\\\\\\ {{\\\\mathrm{L u m e t h e r a t i c e}}} \\\\\\\\ {{\\\\mathrm{L a t h e r a t i c e}}} \\\\\\\\ {{\\\\mathrm{L a t h e r}}} \\\\\\\\ {{\\\\mathrm{L a t h e r}}} \\\\end{array}',\n",
       " 'score': 0.6713667511940002}"
      ]
     },
     "execution_count": 8,
     "metadata": {},
     "output_type": "execute_result"
    }
   ],
   "source": [
    "res"
   ]
  },
  {
   "cell_type": "code",
   "execution_count": null,
   "metadata": {},
   "outputs": [
    {
     "data": {
      "text/markdown": [
       "\\begin{array} {c} {{\\mathrm{R U T \\, G O N \\, B I \\! \\! R U \\, T H U C \\, D A I S O}}} \\\\ {{\\mathrm{A n t a c t e r f i c r}}} \\\\ {{\\mathrm{L a t h e s t e r}}} \\\\ {{\\mathrm{L a t h e s t r}}} \\\\ {{\\mathrm{L a t h e s t e r}}} \\\\ {{\\mathrm{L a t h e s t}}} \\\\ {{\\mathrm{L a t h e s t}}} \\\\ {{\\mathrm{L a t h e s t}}} \\\\ {{\\mathrm{L a t h e s t e r s i t e r e s t r e t h e t r e d a t}}} \\\\ {{\\mathrm{L a t h e r b e r}}} \\\\ {{\\mathrm{L u t h e r b e r}}} \\\\ {{\\mathrm{L u m e s t h e r s p h i e r e s t r e t r e t r e t r e d e t}}} \\\\ {{\\mathrm{L u t h e r e t a t i c e t i c e}}} \\\\ {{\\mathrm{L u m e t h e r s p h i c e d e r}}} \\\\ {{\\mathrm{L u m e t h e r a t i c e}}} \\\\ {{\\mathrm{L a t h e r a t i c e}}} \\\\ {{\\mathrm{L a t h e r}}} \\\\ {{\\mathrm{L a t h e r}}} \\end{array}"
      ],
      "text/plain": [
       "<IPython.core.display.Markdown object>"
      ]
     },
     "metadata": {},
     "output_type": "display_data"
    }
   ],
   "source": [
    "from IPython.display import Markdown, display\n",
    "\n",
    "display(Markdown(res['text']))"
   ]
  },
  {
   "cell_type": "code",
   "execution_count": 13,
   "metadata": {},
   "outputs": [
    {
     "name": "stderr",
     "output_type": "stream",
     "text": [
      "[WARNING 2024-10-31 10:25:43,463 __init__:89] text_ocr must not be None. Using default text_ocr engine instead, with config: {'context': 'cpu'}. \n"
     ]
    },
    {
     "name": "stdout",
     "output_type": "stream",
     "text": [
      "Loading C:\\Users\\admin\\AppData\\Roaming\\pix2text\\1.1\\mfd-onnx\\mfd-v20240618.onnx for ONNX Runtime inference...\n",
      "\n",
      "WARNING  imgsz=[468, 768] must be multiple of max stride 32, updating to [480, 768]\n",
      "0: 480x768 2 isolateds, 161.5ms\n",
      "Speed: 10.5ms preprocess, 161.5ms inference, 32.6ms postprocess per image at shape (1, 3, 480, 768)\n"
     ]
    },
    {
     "name": "stderr",
     "output_type": "stream",
     "text": [
      "100%|██████████| 2/2 [00:02<00:00,  1.44s/it]\n"
     ]
    }
   ],
   "source": [
    "from pix2text import text_formula_ocr\n",
    "tfo = text_formula_ocr.TextFormulaOCR().from_config(languages=('vi'))\n",
    "\n",
    "res = tfo.recognize(r'D:\\FPT\\math-ocr\\Pix2Text\\docs\\examples\\vietnamese.jpg')"
   ]
  },
  {
   "cell_type": "code",
   "execution_count": 15,
   "metadata": {},
   "outputs": [
    {
     "data": {
      "text/markdown": [
       "\n",
       "RUT GON BIEU THUc DAI S6\n",
       "vA CAC BAI TOAN LIEN QUAN A-LY THUYér\n",
       "1. Kién thitec 6, 7, 8 quan trong can nhd\n",
       "a.Tihchitv\n",
       "$$\n",
       "\\operatorname{t p h} \\hat{\\mathrm{a n ~ s o ~}} ( \\mathrm{\\ p h a n ~ t h i t c} ) \\colon{\\frac{A. M} {B. M}} \\!=\\! {\\frac{A} {B}} \\ \\ ( M \\neq0, B \\neq0 )\n",
       "$$\n",
       "b. Nhitng hing ding thite ding nho\n",
       "$$\n",
       "\\begin{array} {l l} {\\bullet} & {( A+B )^{2}=A^{2}+2 A B+B^{2}} \\\\ {\\bullet} & {( A \\cdot B )^{2}=A^{2} \\cdot2 A B+B^{2}} \\\\ \\end{array}\n",
       "$$\n"
      ],
      "text/plain": [
       "<IPython.core.display.Markdown object>"
      ]
     },
     "metadata": {},
     "output_type": "display_data"
    }
   ],
   "source": [
    "display(Markdown(res))"
   ]
  },
  {
   "cell_type": "code",
   "execution_count": null,
   "metadata": {},
   "outputs": [],
   "source": [
    "from pix2text"
   ]
  }
 ],
 "metadata": {
  "kernelspec": {
   "display_name": "ai",
   "language": "python",
   "name": "python3"
  },
  "language_info": {
   "codemirror_mode": {
    "name": "ipython",
    "version": 3
   },
   "file_extension": ".py",
   "mimetype": "text/x-python",
   "name": "python",
   "nbconvert_exporter": "python",
   "pygments_lexer": "ipython3",
   "version": "3.12.7"
  }
 },
 "nbformat": 4,
 "nbformat_minor": 2
}
