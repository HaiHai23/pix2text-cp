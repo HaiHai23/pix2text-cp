{
 "cells": [
  {
   "cell_type": "code",
   "execution_count": 2,
   "metadata": {},
   "outputs": [
    {
     "data": {
      "text/plain": [
       "'d:\\\\FPT\\\\math-ocr\\\\Pix2Text'"
      ]
     },
     "execution_count": 2,
     "metadata": {},
     "output_type": "execute_result"
    }
   ],
   "source": [
    "from IPython.display import Markdown, display\n",
    "\n",
    "import os\n",
    "os.chdir('..')\n",
    "os.getcwd()"
   ]
  },
  {
   "cell_type": "code",
   "execution_count": 3,
   "metadata": {},
   "outputs": [
    {
     "name": "stderr",
     "output_type": "stream",
     "text": [
      "d:\\Apps\\Anaconda3\\envs\\ai\\Lib\\site-packages\\onnxruntime\\capi\\onnxruntime_validation.py:26: UserWarning: Unsupported Windows version (11). ONNX Runtime supports Windows 10 and above, only.\n",
      "  warnings.warn(\n"
     ]
    }
   ],
   "source": [
    "from pix2text import Pix2Text"
   ]
  },
  {
   "cell_type": "code",
   "execution_count": 4,
   "metadata": {},
   "outputs": [
    {
     "name": "stdout",
     "output_type": "stream",
     "text": [
      "text_formula_config: {'languages': ('en', 'vi')}\n",
      "Fix size testing.\n",
      "training chunk_sizes: [32]\n",
      "The output will be saved to  d:\\FPT\\math-ocr\\Pix2Text\\pix2text\\doc_xl_layout\\..\\..\\exp\\ctdet_subfield\\default\n",
      "heads {'hm': 11, 'cls': 4, 'ftype': 3, 'wh': 8, 'hm_sub': 2, 'wh_sub': 8, 'reg': 2, 'reg_sub': 2}\n"
     ]
    },
    {
     "name": "stderr",
     "output_type": "stream",
     "text": [
      "[WARNING 2024-11-01 08:29:10,835 __init__:71] Using CPU. Note: This module is much faster with a GPU. \n"
     ]
    },
    {
     "name": "stdout",
     "output_type": "stream",
     "text": [
      "configured_languages: ('en', 'vi')\n",
      "languages: ('en', 'vi')\n",
      "EasyOCREngine is used\n",
      "configured_text_ocr: <pix2text.ocr_engine.EasyOCREngine object at 0x000001F38DEAB620>\n",
      "text_formula_ocr: <pix2text.text_formula_ocr.TextFormulaOCR object at 0x000001F3A018E930>\n",
      "languages: ('en', 'vi')\n"
     ]
    }
   ],
   "source": [
    "total_configs = {\n",
    "    'text_formula': {'languages': ('en', 'vi')},\n",
    "}\n",
    "p2t = Pix2Text.from_config(total_configs=total_configs)"
   ]
  },
  {
   "cell_type": "code",
   "execution_count": null,
   "metadata": {},
   "outputs": [],
   "source": [
    "res1 = p2t.recognize_page(r\"C:\\Users\\admin\\Downloads\\z5982621248208_2c0aacd9c4a7fc22344ca405d378ba7e.jpg\", save_analysis_res='vn-out.jpg')"
   ]
  },
  {
   "cell_type": "code",
   "execution_count": 10,
   "metadata": {},
   "outputs": [
    {
     "data": {
      "text/plain": [
       "'## Bài I (5.0 điểm)\\n\\n## 1. Cho biếu thức\\n\\n$$\\n\\\\begin{array} {c} {{P=\\\\displaystyle\\\\frac{x^{2}+x} {x^{2}-2 x+1} ; \\\\left( \\\\frac{x+1} {x}+\\\\frac{1} {x-1}+\\\\frac{2-x^{2}} {x^{2}-x} \\\\right) \\\\mathrm{v o i} \\\\; \\\\; x \\\\neq0, x \\\\neq\\\\pm1}} \\\\\\\\ {{a ) \\\\mathrm{~ a l ~} \\\\mathrm{~ R i t ~ o o n ~} P}} \\\\end{array}\\n$$\\n\\nb) Tìm giá trị nhỏ nhất cúa D $P$ |khi x > 1\\n\\nVnu 1 va do1 mọt Khac nhau thoa mán: 1 $a^{2} ( b+c )=b^{2} ( c+a )=2 0 2 5$ \\'Tính giá trị biễu thức $M=c^{2} ( a+b )$ \\n\\n1 Im tãt câ các cặp sô nguyên $( x, y )$ thòa mãn phuơng trinh\\n\\n2. Giài hệ phuong trinh  $x^{2}-2 y^{2}+x y+x-y-5=0$  $\\\\left\\\\{\\\\begin{matrix} x^{2}+x y+y^{2}=3 \\\\\\\\ x^{3}+3 y-3 x=1 \\\\end{matrix} \\\\right.$ \\n\\n## Bài III (3.0 điểm)\\n\\n52225 $n^{2}-n+1 3$ là số chính phuơng? 1ê hai Shọnọgẫhọiênaais8ố ggygên ng vượt quá 13. Tinh xác suất\\natéchon là hai số nguyên 1ố trong dó co một 58 chẵn và một sổl2\\n\\n4uocg 27,gin6,9 ABC SâdM S048RE: Cgiaa RiH\\'JàBh; thẳng vuông góc với AB. Từ Ckẻ duờng thẳng vuông góc với AC, hai này cẳt nhau tại_ $\\\\mathtt{K}$ \\n\\n4 Chứng minh AAEF dồng dạng với AABC\\n\\n2 Chứng minh $B H, A D=A C, B D \\\\mathrm{~ v \\\\dot{a} ~} A K \\\\perp E F$ \\n\\n5 Chứng minh sinz ] $\\\\overline{B A C}+\\\\sin^{2} \\\\overline{A B C}+\\\\sin^{2} \\\\overline{B C A} > 2$ \\n\\nIa1 v (Z.u đim)\\n\\n495522292 92252 sân bay gần nhất. khác nhau. Từ mỗi sân\\n2.Cho= bay nào có nhiéu hon $5$ máy bay bay tởi. a,b, c là các dương  thòa mãn ] $a^{2}+b^{2}+c^{2} \\\\leq a b c.$ \\'\\n\\n~uung mnn rang:\\n\\n$$\\n\\\\frac{a} {a^{2}+b c}+\\\\frac{b} {b^{2}+c a}+\\\\frac{c} {c^{2}+a b} \\\\leq\\\\frac{1} {2}\\n$$\\n\\nUBND HIUYỆN HIOÀI ĐỨC PHÒNG GIÁO DUC YÀ ĐÀO T4O\\n\\nDêchính thức Đề gồm 01 trang\\n\\n $\\\\cdots$ \\'\"BY\"\\n\\n## KỲ TII CION HIOC SINH GIỎILỚP 9 Môn: Toán. Nfm hoc 2024-2025 Khóa thi ngày 26/10/2024\\n\\nThời gian làm bài: 150 phút (khóng kể thời gian giao đề)\\n'"
      ]
     },
     "execution_count": 10,
     "metadata": {},
     "output_type": "execute_result"
    }
   ],
   "source": [
    "res1.to_markdown('vn-out.md')"
   ]
  },
  {
   "cell_type": "code",
   "execution_count": 5,
   "metadata": {},
   "outputs": [
    {
     "name": "stdout",
     "output_type": "stream",
     "text": [
      "Loading C:\\Users\\admin\\AppData\\Roaming\\pix2text\\1.1\\mfd-onnx\\mfd-v20240618.onnx for ONNX Runtime inference...\n",
      "\n",
      "WARNING  imgsz=[195, 768] must be multiple of max stride 32, updating to [224, 768]\n",
      "0: 224x768 (no detections), 96.3ms\n",
      "Speed: 20.6ms preprocess, 96.3ms inference, 0.0ms postprocess per image at shape (1, 3, 224, 768)\n"
     ]
    },
    {
     "name": "stderr",
     "output_type": "stream",
     "text": [
      "0it [00:00, ?it/s]\n"
     ]
    },
    {
     "name": "stdout",
     "output_type": "stream",
     "text": [
      "\n",
      "WARNING  imgsz=[270, 768] must be multiple of max stride 32, updating to [288, 768]\n",
      "0: 288x768 1 isolated, 130.8ms\n",
      "Speed: 0.0ms preprocess, 130.8ms inference, 7.9ms postprocess per image at shape (1, 3, 288, 768)\n"
     ]
    },
    {
     "name": "stderr",
     "output_type": "stream",
     "text": [
      "100%|██████████| 1/1 [00:00<00:00,  1.46it/s]\n"
     ]
    },
    {
     "name": "stdout",
     "output_type": "stream",
     "text": [
      "\n",
      "WARNING  imgsz=[387, 768] must be multiple of max stride 32, updating to [416, 768]\n",
      "0: 416x768 6 embeddings, 1 isolated, 179.3ms\n",
      "Speed: 0.0ms preprocess, 179.3ms inference, 0.0ms postprocess per image at shape (1, 3, 416, 768)\n"
     ]
    },
    {
     "name": "stderr",
     "output_type": "stream",
     "text": [
      "100%|██████████| 6/6 [00:04<00:00,  1.45it/s]\n"
     ]
    }
   ],
   "source": [
    "res2 = p2t.recognize_page(r\"C:\\Users\\admin\\Downloads\\hsg 9 hoai duc 2.jpg\", save_analysis_res='vn-out2.jpg')"
   ]
  },
  {
   "cell_type": "code",
   "execution_count": 16,
   "metadata": {},
   "outputs": [
    {
     "name": "stdout",
     "output_type": "stream",
     "text": [
      "text_formula_config: {'languages': ('en', 'vi'), 'formula': {'model_name': 'mfr', 'model_backend': 'onnx', 'more_model_configs': {'provider': 'CPUExecutionProvider'}}}\n",
      "Fix size testing.\n",
      "training chunk_sizes: [32]\n",
      "The output will be saved to  d:\\FPT\\math-ocr\\Pix2Text\\pix2text\\doc_xl_layout\\..\\..\\exp\\ctdet_subfield\\default\n",
      "heads {'hm': 11, 'cls': 4, 'ftype': 3, 'wh': 8, 'hm_sub': 2, 'wh_sub': 8, 'reg': 2, 'reg_sub': 2}\n"
     ]
    },
    {
     "name": "stderr",
     "output_type": "stream",
     "text": [
      "[WARNING 2024-11-01 08:56:18,995 __init__:71] Using CPU. Note: This module is much faster with a GPU. \n"
     ]
    },
    {
     "name": "stdout",
     "output_type": "stream",
     "text": [
      "configured_languages: ('en', 'vi')\n",
      "languages: ('en', 'vi')\n",
      "EasyOCREngine is used\n",
      "configured_text_ocr: <pix2text.ocr_engine.EasyOCREngine object at 0x000001F453CDE210>\n",
      "text_formula_ocr: <pix2text.text_formula_ocr.TextFormulaOCR object at 0x000001F454197440>\n",
      "languages: ('en', 'vi')\n",
      "Loading C:\\Users\\admin\\AppData\\Roaming\\pix2text\\1.1\\mfd-onnx\\mfd-v20240618.onnx for ONNX Runtime inference...\n",
      "\n",
      "WARNING  imgsz=[222, 768] must be multiple of max stride 32, updating to [224, 768]\n",
      "0: 224x768 (no detections), 127.3ms\n",
      "Speed: 0.0ms preprocess, 127.3ms inference, 17.3ms postprocess per image at shape (1, 3, 224, 768)\n"
     ]
    },
    {
     "name": "stderr",
     "output_type": "stream",
     "text": [
      "0it [00:00, ?it/s]\n"
     ]
    },
    {
     "name": "stdout",
     "output_type": "stream",
     "text": [
      "\n",
      "WARNING  imgsz=[197, 768] must be multiple of max stride 32, updating to [224, 768]\n",
      "0: 224x768 (no detections), 104.0ms\n",
      "Speed: 0.0ms preprocess, 104.0ms inference, 0.0ms postprocess per image at shape (1, 3, 224, 768)\n"
     ]
    },
    {
     "name": "stderr",
     "output_type": "stream",
     "text": [
      "0it [00:00, ?it/s]\n",
      "100%|██████████| 1/1 [00:02<00:00,  2.37s/it]"
     ]
    },
    {
     "name": "stdout",
     "output_type": "stream",
     "text": [
      "\n",
      "WARNING  imgsz=[305, 768] must be multiple of max stride 32, updating to [320, 768]\n"
     ]
    },
    {
     "name": "stderr",
     "output_type": "stream",
     "text": [
      "\n"
     ]
    },
    {
     "name": "stdout",
     "output_type": "stream",
     "text": [
      "0: 320x768 1 isolated, 200.6ms\n",
      "Speed: 0.0ms preprocess, 200.6ms inference, 0.0ms postprocess per image at shape (1, 3, 320, 768)\n"
     ]
    },
    {
     "name": "stderr",
     "output_type": "stream",
     "text": [
      "100%|██████████| 1/1 [00:00<00:00,  1.78it/s]"
     ]
    },
    {
     "name": "stdout",
     "output_type": "stream",
     "text": [
      "\n"
     ]
    },
    {
     "name": "stderr",
     "output_type": "stream",
     "text": [
      "\n"
     ]
    },
    {
     "name": "stdout",
     "output_type": "stream",
     "text": [
      "WARNING  imgsz=[157, 768] must be multiple of max stride 32, updating to [160, 768]\n",
      "0: 160x768 1 embedding, 145.7ms\n",
      "Speed: 0.0ms preprocess, 145.7ms inference, 0.0ms postprocess per image at shape (1, 3, 160, 768)\n"
     ]
    },
    {
     "name": "stderr",
     "output_type": "stream",
     "text": [
      "100%|██████████| 1/1 [00:00<00:00,  2.80it/s]\n"
     ]
    },
    {
     "name": "stdout",
     "output_type": "stream",
     "text": [
      "\n",
      "0: 128x768 3 embeddings, 56.2ms\n",
      "Speed: 15.6ms preprocess, 56.2ms inference, 0.0ms postprocess per image at shape (1, 3, 128, 768)\n"
     ]
    },
    {
     "name": "stderr",
     "output_type": "stream",
     "text": [
      "100%|██████████| 2/2 [00:01<00:00,  1.73it/s]\n"
     ]
    },
    {
     "name": "stdout",
     "output_type": "stream",
     "text": [
      "\n",
      "WARNING  imgsz=[93, 768] must be multiple of max stride 32, updating to [96, 768]\n",
      "0: 96x768 (no detections), 55.3ms\n",
      "Speed: 0.0ms preprocess, 55.3ms inference, 0.0ms postprocess per image at shape (1, 3, 96, 768)\n"
     ]
    },
    {
     "name": "stderr",
     "output_type": "stream",
     "text": [
      "0it [00:00, ?it/s]\n"
     ]
    },
    {
     "name": "stdout",
     "output_type": "stream",
     "text": [
      "\n",
      "WARNING  imgsz=[118, 768] must be multiple of max stride 32, updating to [128, 768]\n",
      "0: 128x768 2 isolateds, 68.0ms\n",
      "Speed: 0.0ms preprocess, 68.0ms inference, 0.0ms postprocess per image at shape (1, 3, 128, 768)\n"
     ]
    },
    {
     "name": "stderr",
     "output_type": "stream",
     "text": [
      "100%|██████████| 1/1 [00:00<00:00,  1.04it/s]\n",
      "100%|██████████| 1/1 [00:01<00:00,  1.81s/it]\n"
     ]
    },
    {
     "name": "stdout",
     "output_type": "stream",
     "text": [
      "\n",
      "WARNING  imgsz=[150, 768] must be multiple of max stride 32, updating to [160, 768]\n",
      "0: 160x768 1 embedding, 107.4ms\n",
      "Speed: 0.0ms preprocess, 107.4ms inference, 0.0ms postprocess per image at shape (1, 3, 160, 768)\n"
     ]
    },
    {
     "name": "stderr",
     "output_type": "stream",
     "text": [
      "100%|██████████| 1/1 [00:00<00:00,  1.83it/s]\n"
     ]
    },
    {
     "name": "stdout",
     "output_type": "stream",
     "text": [
      "\n",
      "WARNING  imgsz=[127, 768] must be multiple of max stride 32, updating to [128, 768]\n",
      "0: 128x768 1 embedding, 71.9ms\n",
      "Speed: 0.0ms preprocess, 71.9ms inference, 0.0ms postprocess per image at shape (1, 3, 128, 768)\n"
     ]
    },
    {
     "name": "stderr",
     "output_type": "stream",
     "text": [
      "100%|██████████| 1/1 [00:00<00:00,  1.78it/s]\n"
     ]
    },
    {
     "name": "stdout",
     "output_type": "stream",
     "text": [
      "\n",
      "WARNING  imgsz=[133, 768] must be multiple of max stride 32, updating to [160, 768]\n",
      "0: 160x768 (no detections), 70.1ms\n",
      "Speed: 0.0ms preprocess, 70.1ms inference, 0.0ms postprocess per image at shape (1, 3, 160, 768)\n"
     ]
    },
    {
     "name": "stderr",
     "output_type": "stream",
     "text": [
      "0it [00:00, ?it/s]\n"
     ]
    },
    {
     "name": "stdout",
     "output_type": "stream",
     "text": [
      "\n",
      "WARNING  imgsz=[124, 768] must be multiple of max stride 32, updating to [128, 768]\n",
      "0: 128x768 1 embedding, 93.6ms\n",
      "Speed: 0.0ms preprocess, 93.6ms inference, 0.0ms postprocess per image at shape (1, 3, 128, 768)\n"
     ]
    },
    {
     "name": "stderr",
     "output_type": "stream",
     "text": [
      "100%|██████████| 1/1 [00:00<00:00,  1.23it/s]\n"
     ]
    },
    {
     "name": "stdout",
     "output_type": "stream",
     "text": [
      "\n",
      "WARNING  imgsz=[137, 768] must be multiple of max stride 32, updating to [160, 768]\n",
      "0: 160x768 1 embedding, 79.2ms\n",
      "Speed: 0.0ms preprocess, 79.2ms inference, 0.0ms postprocess per image at shape (1, 3, 160, 768)\n"
     ]
    },
    {
     "name": "stderr",
     "output_type": "stream",
     "text": [
      "100%|██████████| 1/1 [00:00<00:00,  1.06it/s]\n"
     ]
    },
    {
     "name": "stdout",
     "output_type": "stream",
     "text": [
      "\n",
      "WARNING  imgsz=[164, 768] must be multiple of max stride 32, updating to [192, 768]\n",
      "0: 192x768 2 embeddings, 81.9ms\n",
      "Speed: 0.0ms preprocess, 81.9ms inference, 0.0ms postprocess per image at shape (1, 3, 192, 768)\n"
     ]
    },
    {
     "name": "stderr",
     "output_type": "stream",
     "text": [
      "100%|██████████| 2/2 [00:01<00:00,  1.56it/s]\n",
      "100%|██████████| 1/1 [00:01<00:00,  1.27s/it]\n"
     ]
    },
    {
     "name": "stdout",
     "output_type": "stream",
     "text": [
      "\n",
      "WARNING  imgsz=[1019, 768] must be multiple of max stride 32, updating to [1024, 768]\n",
      "0: 1024x768 (no detections), 450.1ms\n",
      "Speed: 24.6ms preprocess, 450.1ms inference, 0.0ms postprocess per image at shape (1, 3, 1024, 768)\n"
     ]
    },
    {
     "name": "stderr",
     "output_type": "stream",
     "text": [
      "0it [00:00, ?it/s]\n"
     ]
    }
   ],
   "source": [
    "def test_recognize_page():\n",
    "    # img_fp = './docs/examples/formula.jpg'\n",
    "    img_fp = r\"C:\\Users\\admin\\Downloads\\hsg 9 hoai duc.jpg\"\n",
    "    total_config = {\n",
    "        'layout': {'scores_thresh': 0.2},\n",
    "        'text_formula': {\n",
    "            'languages': ('en', 'vi'),\n",
    "            'formula': {\n",
    "                'model_name': 'mfr',\n",
    "                'model_backend': 'onnx',\n",
    "                'more_model_configs': {'provider': 'CPUExecutionProvider'},\n",
    "            }\n",
    "        },\n",
    "    }\n",
    "    p2t = Pix2Text.from_config(total_configs=total_config)\n",
    "    out_page = p2t.recognize_page(\n",
    "        img_fp,\n",
    "        page_id='test_page_1',\n",
    "        title_contain_formula=False,\n",
    "        text_contain_formula=True,\n",
    "        save_debug_res='./hsg9-output/unscanned',\n",
    "    )\n",
    "    # print(out_page)\n",
    "    out_page.to_markdown('./hsg9-output/unscanned/page-output')\n",
    "\n",
    "test_recognize_page()"
   ]
  },
  {
   "cell_type": "code",
   "execution_count": 6,
   "metadata": {},
   "outputs": [],
   "source": [
    "from pix2text import ocr_engine"
   ]
  },
  {
   "cell_type": "code",
   "execution_count": null,
   "metadata": {},
   "outputs": [],
   "source": []
  },
  {
   "cell_type": "code",
   "execution_count": 9,
   "metadata": {},
   "outputs": [
    {
     "name": "stderr",
     "output_type": "stream",
     "text": [
      "[WARNING 2024-10-31 20:32:54,348 __init__:71] Using CPU. Note: This module is much faster with a GPU. \n"
     ]
    },
    {
     "name": "stdout",
     "output_type": "stream",
     "text": [
      "languages: ('en', 'vi')\n",
      "EasyOCREngine is used\n",
      "\n",
      "RÚT GỌN BIỂU THỨC ĐẠI SỐ\n",
      "VÀ CÁC BÀI TOÁN LIÊN QUAN ALÝ IHUYÉT\n",
      "1 Kiến thức 6, Z,8 quan trong cần nhớ\n",
      "a. Tính chất về phân số ( phân thức): AM = % (M +0,B=0)\n",
      "4\n",
      "BM\n",
      "b Những hằng đẳng thức đáng nhó\n",
      "(A +Bỷ = A + 2AB + B\n",
      "(A - BỶ = A? - 2AB + B\n",
      "\n"
     ]
    }
   ],
   "source": [
    "from pix2text import text_formula_ocr\n",
    "tfo_2 = text_formula_ocr.TextFormulaOCR(text_ocr=ocr_engine.prepare_ocr_engine(languages=('en', 'vi'), ocr_engine_config={}))\n",
    "\n",
    "res_2 = tfo_2.recognize(r'D:\\FPT\\math-ocr\\Pix2Text\\docs\\examples\\vietnamese.jpg')\n",
    "print(res_2)"
   ]
  },
  {
   "cell_type": "code",
   "execution_count": 6,
   "metadata": {},
   "outputs": [
    {
     "name": "stderr",
     "output_type": "stream",
     "text": [
      "[WARNING 2024-10-31 21:25:42,156 __init__:89] text_ocr must not be None. Using default text_ocr engine instead, with config: {'context': 'cpu'}. \n"
     ]
    },
    {
     "name": "stderr",
     "output_type": "stream",
     "text": [
      "[WARNING 2024-10-31 21:25:42,170 __init__:71] Using CPU. Note: This module is much faster with a GPU. \n"
     ]
    },
    {
     "name": "stdout",
     "output_type": "stream",
     "text": [
      "languages: ('en', 'ch_sim')\n"
     ]
    },
    {
     "name": "stderr",
     "output_type": "stream",
     "text": [
      "[WARNING 2024-10-31 21:25:48,133 __init__:71] Using CPU. Note: This module is much faster with a GPU. \n"
     ]
    },
    {
     "name": "stdout",
     "output_type": "stream",
     "text": [
      "EasyOCREngine is used\n",
      "default_text_ocr: <pix2text.ocr_engine.EasyOCREngine object at 0x000002B4764E9130>\n",
      "configured_languages: ('en', 'vi')\n",
      "languages: ('en', 'vi')\n",
      "EasyOCREngine is used\n",
      "configured_text_ocr: <pix2text.ocr_engine.EasyOCREngine object at 0x000002B476572420>\n",
      "Loading C:\\Users\\admin\\AppData\\Roaming\\pix2text\\1.1\\mfd-onnx\\mfd-v20240618.onnx for ONNX Runtime inference...\n",
      "\n",
      "WARNING  imgsz=[1019, 768] must be multiple of max stride 32, updating to [1024, 768]\n",
      "0: 1024x768 16 embeddings, 2 isolateds, 516.6ms\n",
      "Speed: 54.9ms preprocess, 516.6ms inference, 49.3ms postprocess per image at shape (1, 3, 1024, 768)\n"
     ]
    },
    {
     "name": "stderr",
     "output_type": "stream",
     "text": [
      "100%|██████████| 15/15 [00:12<00:00,  1.24it/s]\n"
     ]
    }
   ],
   "source": [
    "from pix2text import text_formula_ocr\n",
    "tfo = text_formula_ocr.TextFormulaOCR().from_config({\n",
    "    'languages': ('en', 'vi')\n",
    "})\n",
    "\n",
    "res = tfo.recognize(r\"C:\\Users\\admin\\Downloads\\z5982621248208_2c0aacd9c4a7fc22344ca405d378ba7e.jpg\")"
   ]
  },
  {
   "cell_type": "code",
   "execution_count": 4,
   "metadata": {},
   "outputs": [
    {
     "data": {
      "text/plain": [
       "('en', 'vi')"
      ]
     },
     "execution_count": 4,
     "metadata": {},
     "output_type": "execute_result"
    }
   ],
   "source": [
    "tfo.languages"
   ]
  },
  {
   "cell_type": "code",
   "execution_count": 7,
   "metadata": {},
   "outputs": [
    {
     "data": {
      "text/markdown": [
       "UBND HIUYỆN HIOÀI ĐỨC KỲ TII CHON HIOC SINH GIÒI LỚP 9 PHÒNG GIÁO DUC VÀ ĐÀO TẠO Môn: Toán. Năm hoc 2024-2025 Đề chính thức Khóa thi ngày 26/10/2024 Đề gồm 01 trang Thời gian làm bài: 150 phút (khóng kể thời\n",
       "gian giao đề) Bài I (5.0 điểm)\n",
       "1. Cho biều thức\n",
       "$$\n",
       "P={\\frac{x^{2}+x} {x^{2}-2 x+1}} ; \\left( {\\frac{x+1} {x}}+{\\frac{1} {x-1}}+{\\frac{2-x^{2}} {x^{2}-x}} \\right) \\mathrm{v o i} \\ \\ x \\neq0, x \\neq\\pm1\n",
       "$$\n",
       "2 $M=c^{2} ( a+b )$ hai duờng $a^{2} ( b+c )=b^{2} ( c+a )=2 0 2 5$  $P$ khi $x > 1$ 1\n",
       "2 Cho a. b.c là các số khác n và dôi mệ nhau thòa mãn: 2 1\n",
       "3. $1. \\dot{0}$ 7 $\\left\\{\\begin{matrix} x^{2}+x y+y^{2}=3 \\\\ x^{3}+3 y-3 x=1 \\end{matrix} \\right.$ 2 2. $\\mathbf{v}$ Bài III (3.0 điểm) 1 $n^{2}-n+1 3$ 2 2 2 5 5 Bài h (6. Ziẩmnhọn 'dường '\n",
       "5282\n",
       "25 $\\Delta A E F$ [và AK 1 EF\n",
       "càsứn! mhah tại K $B H. \\, A D=A C. \\, B D$ \n",
       "Chứng minh sin? $\\overline{B A C}+\\sin^{2} \\overline{A B C}+\\sin^{2} \\overline{B C A} > 2$ \n",
       "minh\n",
       "222922 $5$ máy\n",
       "khác ghaunl ingỗkhôn ga8 són bay cẩt cánh và\n",
       " $a^{2}+b^{2}+c^{2} \\leq a b c.$ \n",
       "$$\n",
       "\\frac{a} {a^{2}+b c}+\\frac{b} {b^{2}+c a}+\\frac{c} {c^{2}+a b} \\leq\\frac{1} {2}\n",
       "$$\n"
      ],
      "text/plain": [
       "<IPython.core.display.Markdown object>"
      ]
     },
     "metadata": {},
     "output_type": "display_data"
    }
   ],
   "source": [
    "display(Markdown(res))"
   ]
  },
  {
   "cell_type": "code",
   "execution_count": 6,
   "metadata": {},
   "outputs": [],
   "source": [
    "from pix2text import formula_detector\n",
    "mfd = formula_detector.MathFormulaDetector()"
   ]
  },
  {
   "cell_type": "code",
   "execution_count": null,
   "metadata": {},
   "outputs": [
    {
     "name": "stdout",
     "output_type": "stream",
     "text": [
      "Loading C:\\Users\\admin\\AppData\\Roaming\\pix2text\\1.1\\mfd-onnx\\mfd-v20240618.onnx for ONNX Runtime inference...\n",
      "\n",
      "image 1/1 D:\\FPT\\math-ocr\\Pix2Text\\docs\\examples\\vietnamese.jpg: 768x768 3 isolateds, 261.1ms\n",
      "Speed: 0.0ms preprocess, 261.1ms inference, 0.0ms postprocess per image at shape (1, 3, 768, 768)\n"
     ]
    },
    {
     "data": {
      "text/plain": [
       "[{'box': array([[     65.238,      444.18],\n",
       "         [     1029.2,      444.18],\n",
       "         [     1029.2,      542.05],\n",
       "         [     65.238,      542.05]]),\n",
       "  'score': 0.30065029859542847,\n",
       "  'type': 'isolated'},\n",
       " {'box': array([[     311.83,      658.92],\n",
       "         [     825.31,      658.92],\n",
       "         [     825.31,      816.69],\n",
       "         [     311.83,      816.69]]),\n",
       "  'score': 0.898681104183197,\n",
       "  'type': 'isolated'}]"
      ]
     },
     "execution_count": 7,
     "metadata": {},
     "output_type": "execute_result"
    }
   ],
   "source": [
    "f_out = mfd.detect(r'D:\\FPT\\math-ocr\\Pix2Text\\docs\\examples\\vietnamese.jpg')"
   ]
  }
 ],
 "metadata": {
  "kernelspec": {
   "display_name": "ai",
   "language": "python",
   "name": "python3"
  },
  "language_info": {
   "codemirror_mode": {
    "name": "ipython",
    "version": 3
   },
   "file_extension": ".py",
   "mimetype": "text/x-python",
   "name": "python",
   "nbconvert_exporter": "python",
   "pygments_lexer": "ipython3",
   "version": "3.12.7"
  }
 },
 "nbformat": 4,
 "nbformat_minor": 2
}
